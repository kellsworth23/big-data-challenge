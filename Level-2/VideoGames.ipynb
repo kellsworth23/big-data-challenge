{
  "nbformat": 4,
  "nbformat_minor": 0,
  "metadata": {
    "colab": {
      "name": "VideoGames.ipynb",
      "provenance": [],
      "collapsed_sections": []
    },
    "kernelspec": {
      "name": "python3",
      "display_name": "Python 3"
    },
    "language_info": {
      "name": "python"
    }
  },
  "cells": [
    {
      "cell_type": "code",
      "execution_count": null,
      "metadata": {
        "colab": {
          "base_uri": "https://localhost:8080/"
        },
        "id": "L9HF-b0y3Xn9",
        "outputId": "f44f1180-0a1b-46ea-f367-a13aabf4abc1"
      },
      "outputs": [
        {
          "output_type": "stream",
          "name": "stdout",
          "text": [
            "\r0% [Working]\r            \rGet:1 http://security.ubuntu.com/ubuntu bionic-security InRelease [88.7 kB]\n",
            "\r0% [Waiting for headers] [1 InRelease 14.2 kB/88.7 kB 16%] [Connecting to cloud\r                                                                               \rHit:2 http://archive.ubuntu.com/ubuntu bionic InRelease\n",
            "\r0% [Waiting for headers] [1 InRelease 46.0 kB/88.7 kB 52%] [Connecting to cloud\r                                                                               \rGet:3 http://archive.ubuntu.com/ubuntu bionic-updates InRelease [88.7 kB]\n",
            "\r                                                                               \rGet:4 http://ppa.launchpad.net/c2d4u.team/c2d4u4.0+/ubuntu bionic InRelease [15.9 kB]\n",
            "\r0% [3 InRelease 15.6 kB/88.7 kB 18%] [1 InRelease 46.0 kB/88.7 kB 52%] [Connect\r0% [3 InRelease 21.4 kB/88.7 kB 24%] [1 InRelease 51.8 kB/88.7 kB 58%] [Connect\r0% [2 InRelease gpgv 242 kB] [3 InRelease 24.3 kB/88.7 kB 27%] [1 InRelease 51.\r                                                                               \rGet:5 https://cloud.r-project.org/bin/linux/ubuntu bionic-cran40/ InRelease [3,626 B]\n",
            "\r0% [2 InRelease gpgv 242 kB] [3 InRelease 47.5 kB/88.7 kB 54%] [1 InRelease 83.\r0% [2 InRelease gpgv 242 kB] [3 InRelease 47.5 kB/88.7 kB 54%] [1 InRelease 83.\r0% [2 InRelease gpgv 242 kB] [3 InRelease 57.6 kB/88.7 kB 65%] [Waiting for hea\r0% [2 InRelease gpgv 242 kB] [Waiting for headers] [Waiting for headers] [Waiti\r                                                                               \rHit:6 http://ppa.launchpad.net/cran/libgit2/ubuntu bionic InRelease\n",
            "\r                                                                               \r0% [2 InRelease gpgv 242 kB] [Waiting for headers] [Waiting for headers]\r                                                                        \rGet:7 http://archive.ubuntu.com/ubuntu bionic-backports InRelease [74.6 kB]\n",
            "\r0% [2 InRelease gpgv 242 kB] [7 InRelease 9,844 B/74.6 kB 13%] [Waiting for hea\r                                                                               \r0% [2 InRelease gpgv 242 kB] [Waiting for headers] [Waiting for headers]\r                                                                        \rHit:8 http://ppa.launchpad.net/deadsnakes/ppa/ubuntu bionic InRelease\n",
            "Hit:9 http://ppa.launchpad.net/graphics-drivers/ppa/ubuntu bionic InRelease\n",
            "Ign:10 https://developer.download.nvidia.com/compute/machine-learning/repos/ubuntu1804/x86_64  InRelease\n",
            "Get:11 https://developer.download.nvidia.com/compute/cuda/repos/ubuntu1804/x86_64  InRelease [1,581 B]\n",
            "Hit:12 https://developer.download.nvidia.com/compute/machine-learning/repos/ubuntu1804/x86_64  Release\n",
            "Get:13 http://ppa.launchpad.net/c2d4u.team/c2d4u4.0+/ubuntu bionic/main Sources [2,093 kB]\n",
            "Get:14 http://ppa.launchpad.net/c2d4u.team/c2d4u4.0+/ubuntu bionic/main amd64 Packages [1,073 kB]\n",
            "Get:15 https://cloud.r-project.org/bin/linux/ubuntu bionic-cran40/ Packages [91.1 kB]\n",
            "Get:16 http://security.ubuntu.com/ubuntu bionic-security/universe amd64 Packages [1,534 kB]\n",
            "Get:17 http://security.ubuntu.com/ubuntu bionic-security/main amd64 Packages [2,938 kB]\n",
            "Get:18 http://archive.ubuntu.com/ubuntu bionic-updates/universe amd64 Packages [2,311 kB]\n",
            "Get:19 http://archive.ubuntu.com/ubuntu bionic-updates/main amd64 Packages [3,369 kB]\n",
            "Get:20 https://developer.download.nvidia.com/compute/cuda/repos/ubuntu1804/x86_64  Packages [912 kB]\n",
            "Fetched 14.6 MB in 2s (7,369 kB/s)\n",
            "Reading package lists... Done\n"
          ]
        }
      ],
      "source": [
        "import os\n",
        "# Find the latest version of spark 3.0  from http://www.apache.org/dist/spark/ and enter as the spark version\n",
        "# For example:\n",
        "# spark_version = 'spark-3.0.3'\n",
        "spark_version = 'spark-3.1.3'\n",
        "os.environ['SPARK_VERSION']=spark_version\n",
        "\n",
        "# Install Spark and Java\n",
        "!apt-get update\n",
        "!apt-get install openjdk-8-jdk-headless -qq > /dev/null\n",
        "!wget -q http://www.apache.org/dist/spark/$SPARK_VERSION/$SPARK_VERSION-bin-hadoop2.7.tgz\n",
        "!tar xf $SPARK_VERSION-bin-hadoop2.7.tgz\n",
        "!pip install -q findspark\n",
        "\n",
        "# Set Environment Variables\n",
        "os.environ[\"JAVA_HOME\"] = \"/usr/lib/jvm/java-8-openjdk-amd64\"\n",
        "os.environ[\"SPARK_HOME\"] = f\"/content/{spark_version}-bin-hadoop2.7\"\n",
        "\n",
        "# Start a SparkSession\n",
        "import findspark\n",
        "findspark.init()"
      ]
    },
    {
      "cell_type": "code",
      "source": [
        "from pyspark.sql import SparkSession\n",
        "spark = SparkSession.builder.appName(\"GamingETL\").config(\"spark.driver.extraClassPath\",\"/content/postgresql-42.2.9.jar\").getOrCreate()"
      ],
      "metadata": {
        "id": "OdsltFTo7cbg"
      },
      "execution_count": null,
      "outputs": []
    },
    {
      "cell_type": "code",
      "source": [
        "from pyspark import SparkFiles\n",
        "url =\"https://s3.amazonaws.com/amazon-reviews-pds/tsv/amazon_reviews_us_Digital_Video_Games_v1_00.tsv.gz\"\n",
        "spark.sparkContext.addFile(url)\n",
        "df = spark.read.csv(SparkFiles.get(\"amazon_reviews_us_Digital_Video_Games_v1_00.tsv.gz\"), sep=\"\\t\", header=True)\n",
        "\n",
        "df.show(5)"
      ],
      "metadata": {
        "colab": {
          "base_uri": "https://localhost:8080/"
        },
        "id": "6gagOr5O71WN",
        "outputId": "7d99a9e8-13ef-4ff4-c880-4b106cd8567f"
      },
      "execution_count": null,
      "outputs": [
        {
          "output_type": "stream",
          "name": "stdout",
          "text": [
            "+-----------+-----------+--------------+----------+--------------+--------------------+-------------------+-----------+-------------+-----------+----+-----------------+--------------------+--------------------+-----------+\n",
            "|marketplace|customer_id|     review_id|product_id|product_parent|       product_title|   product_category|star_rating|helpful_votes|total_votes|vine|verified_purchase|     review_headline|         review_body|review_date|\n",
            "+-----------+-----------+--------------+----------+--------------+--------------------+-------------------+-----------+-------------+-----------+----+-----------------+--------------------+--------------------+-----------+\n",
            "|         US|   21269168| RSH1OZ87OYK92|B013PURRZW|     603406193|Madden NFL 16 - X...|Digital_Video_Games|          2|            2|          3|   N|                N|A slight improvem...|I keep buying mad...| 2015-08-31|\n",
            "|         US|     133437|R1WFOQ3N9BO65I|B00F4CEHNK|     341969535| Xbox Live Gift Card|Digital_Video_Games|          5|            0|          0|   N|                Y|          Five Stars|             Awesome| 2015-08-31|\n",
            "|         US|   45765011| R3YOOS71KM5M9|B00DNHLFQA|     951665344|Command & Conquer...|Digital_Video_Games|          5|            0|          0|   N|                Y|Hail to the great...|If you are preppi...| 2015-08-31|\n",
            "|         US|     113118|R3R14UATT3OUFU|B004RMK5QG|     395682204|Playstation Plus ...|Digital_Video_Games|          5|            0|          0|   N|                Y|          Five Stars|             Perfect| 2015-08-31|\n",
            "|         US|   22151364| RV2W9SGDNQA2C|B00G9BNLQE|     640460561|Saints Row IV - E...|Digital_Video_Games|          5|            0|          0|   N|                Y|          Five Stars|            Awesome!| 2015-08-31|\n",
            "+-----------+-----------+--------------+----------+--------------+--------------------+-------------------+-----------+-------------+-----------+----+-----------------+--------------------+--------------------+-----------+\n",
            "only showing top 5 rows\n",
            "\n"
          ]
        }
      ]
    },
    {
      "cell_type": "markdown",
      "source": [
        "# Filter By Votes\n"
      ],
      "metadata": {
        "id": "_B7LQQCwTCf7"
      }
    },
    {
      "cell_type": "code",
      "source": [
        "df = df.select([\"star_rating\", \"helpful_votes\", \"total_votes\", \"vine\", \"verified_purchase\"])\n",
        "df.show(10)\n",
        "\n",
        "df = df.filter(df[\"total_votes\"] >= 20)\n",
        "df = df.filter(df[\"helpful_votes\"]/df[\"total_votes\"] >= 0.3)"
      ],
      "metadata": {
        "colab": {
          "base_uri": "https://localhost:8080/"
        },
        "id": "PRn23MBJTJVy",
        "outputId": "b1002048-c98e-4538-e51b-c80c9f028880"
      },
      "execution_count": null,
      "outputs": [
        {
          "output_type": "stream",
          "name": "stdout",
          "text": [
            "+-----------+-------------+-----------+----+-----------------+\n",
            "|star_rating|helpful_votes|total_votes|vine|verified_purchase|\n",
            "+-----------+-------------+-----------+----+-----------------+\n",
            "|          2|            2|          3|   N|                N|\n",
            "|          5|            0|          0|   N|                Y|\n",
            "|          5|            0|          0|   N|                Y|\n",
            "|          5|            0|          0|   N|                Y|\n",
            "|          5|            0|          0|   N|                Y|\n",
            "|          5|            0|          0|   N|                Y|\n",
            "|          4|            0|          0|   N|                Y|\n",
            "|          5|            0|          0|   N|                Y|\n",
            "|          5|            0|          0|   N|                Y|\n",
            "|          5|            0|          0|   N|                Y|\n",
            "+-----------+-------------+-----------+----+-----------------+\n",
            "only showing top 10 rows\n",
            "\n"
          ]
        }
      ]
    },
    {
      "cell_type": "code",
      "source": [
        "df.count()"
      ],
      "metadata": {
        "colab": {
          "base_uri": "https://localhost:8080/"
        },
        "id": "_PdNeytuT7VW",
        "outputId": "6d9efd71-158a-485b-9e0a-5b68c40c01d2"
      },
      "execution_count": null,
      "outputs": [
        {
          "output_type": "execute_result",
          "data": {
            "text/plain": [
              "2060"
            ]
          },
          "metadata": {},
          "execution_count": 23
        }
      ]
    },
    {
      "cell_type": "markdown",
      "source": [
        "# Divide by paid and unpaid"
      ],
      "metadata": {
        "id": "v53xIuBBUEm9"
      }
    },
    {
      "cell_type": "code",
      "source": [
        "purchase_df = df.filter(df['verified_purchase']== 'Y')\n",
        "noPurchase_df = df.filter(df['verified_purchase']== 'N')\n",
        "\n",
        "purchase_df.describe().show()\n",
        "noPurchase_df.describe().show()"
      ],
      "metadata": {
        "colab": {
          "base_uri": "https://localhost:8080/"
        },
        "id": "FyVhZTy7UJch",
        "outputId": "0ed5b873-9890-4af4-f4c3-8ec38ecdec8a"
      },
      "execution_count": null,
      "outputs": [
        {
          "output_type": "stream",
          "name": "stdout",
          "text": [
            "+-------+------------------+-----------------+------------------+----+-----------------+\n",
            "|summary|       star_rating|    helpful_votes|       total_votes|vine|verified_purchase|\n",
            "+-------+------------------+-----------------+------------------+----+-----------------+\n",
            "|  count|              1019|             1019|              1019|1019|             1019|\n",
            "|   mean|3.0088321884200195| 43.9126594700687| 53.98331697742885|null|             null|\n",
            "| stddev| 1.751485619845831|185.9758081176227|198.78697643553434|null|             null|\n",
            "|    min|                 1|               10|               100|   N|                Y|\n",
            "|    max|                 5|              993|                99|   N|                Y|\n",
            "+-------+------------------+-----------------+------------------+----+-----------------+\n",
            "\n",
            "+-------+------------------+------------------+-----------------+----+-----------------+\n",
            "|summary|       star_rating|     helpful_votes|      total_votes|vine|verified_purchase|\n",
            "+-------+------------------+------------------+-----------------+----+-----------------+\n",
            "|  count|              1041|              1041|             1041|1041|             1041|\n",
            "|   mean|2.8549471661863595| 46.64553314121037|58.73390970220942|null|             null|\n",
            "| stddev|1.7345740504887595|164.17028038960356|173.6938046728172|null|             null|\n",
            "|    min|                 1|                10|              101|   N|                N|\n",
            "|    max|                 5|                98|               98|   N|                N|\n",
            "+-------+------------------+------------------+-----------------+----+-----------------+\n",
            "\n"
          ]
        }
      ]
    },
    {
      "cell_type": "markdown",
      "source": [
        "# Five Star Reviews among Verified purchase"
      ],
      "metadata": {
        "id": "4CGvRkKcVOS3"
      }
    },
    {
      "cell_type": "code",
      "source": [
        "purchase_five_star = purchase_df[purchase_df['star_rating']== 5].count()\n",
        "purchase_number = purchase_df.count()\n",
        "percentage_five_star_purchase = float(purchase_five_star) / float(purchase_number)\n",
        "print(purchase_number)\n",
        "print(purchase_five_star)\n",
        "print(percentage_five_star_purchase)"
      ],
      "metadata": {
        "colab": {
          "base_uri": "https://localhost:8080/"
        },
        "id": "5yPonUOdVUkI",
        "outputId": "5e686286-a8c4-4a0f-ed8c-e69440464295"
      },
      "execution_count": null,
      "outputs": [
        {
          "output_type": "stream",
          "name": "stdout",
          "text": [
            "1019\n",
            "360\n",
            "0.35328753680078506\n"
          ]
        }
      ]
    },
    {
      "cell_type": "markdown",
      "source": [
        "# Five Star Reviews among Non Verified purchase"
      ],
      "metadata": {
        "id": "5Dg6lc83V3zZ"
      }
    },
    {
      "cell_type": "code",
      "source": [
        "noPurchase_five_star = noPurchase_df[noPurchase_df['star_rating']== 5].count()\n",
        "noPurchase_number = noPurchase_df.count()\n",
        "percentage_five_star_noPurchase = float(noPurchase_five_star) / float(noPurchase_number)\n",
        "print(noPurchase_number)\n",
        "print(noPurchase_five_star)\n",
        "print(percentage_five_star_noPurchase)"
      ],
      "metadata": {
        "colab": {
          "base_uri": "https://localhost:8080/"
        },
        "id": "8Rt_SPGoV91o",
        "outputId": "56ca68f6-1787-4fa6-c30b-783f1cd02aee"
      },
      "execution_count": null,
      "outputs": [
        {
          "output_type": "stream",
          "name": "stdout",
          "text": [
            "1041\n",
            "323\n",
            "0.3102785782901057\n"
          ]
        }
      ]
    },
    {
      "cell_type": "markdown",
      "source": [
        "The data above shows that the total number of purchase and no purchase that provided a review is very close. So as the number of reviews with 5 stars for purchase vs no purchase. Which I consider strange because why would you give a 5 star review if you didn't purchase the product."
      ],
      "metadata": {
        "id": "DwIQUb6BZ7-m"
      }
    }
  ]
}